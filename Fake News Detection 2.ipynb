{
 "cells": [
  {
   "cell_type": "code",
   "execution_count": 1,
   "metadata": {},
   "outputs": [],
   "source": [
    "import pandas as pd\n",
    "import numpy as np\n",
    "import matplotlib.pyplot as plt\n",
    "\n",
    "\n",
    "%matplotlib inline\n",
    "\n",
    "train=pd.read_csv('train.csv',delimiter=\"\\t\")\n",
    "test=pd.read_csv('test.csv',delimiter=\"\\t\")\n",
    "sample_submission=pd.read_csv('sample_submission (1).csv')"
   ]
  },
  {
   "cell_type": "code",
   "execution_count": 2,
   "metadata": {},
   "outputs": [
    {
     "name": "stdout",
     "output_type": "stream",
     "text": [
      "text     content\n",
      "label      label\n",
      "Name: 1615, dtype: object\n"
     ]
    }
   ],
   "source": [
    "print(train.loc[1615])\n",
    "train = train.drop([1615])"
   ]
  },
  {
   "cell_type": "code",
   "execution_count": 3,
   "metadata": {},
   "outputs": [],
   "source": [
    "y_train=train['label'].tolist()\n",
    "train=train.drop(labels=['label'],axis='columns')"
   ]
  },
  {
   "cell_type": "code",
   "execution_count": 4,
   "metadata": {},
   "outputs": [],
   "source": [
    "y_test=sample_submission['label'].tolist()\n",
    "test=test.drop(labels=['id'],axis='columns')"
   ]
  },
  {
   "cell_type": "code",
   "execution_count": 5,
   "metadata": {},
   "outputs": [],
   "source": [
    "import nltk\n",
    "from nltk import word_tokenize\n",
    "nltk_stopwords = nltk.corpus.stopwords.words('english')"
   ]
  },
  {
   "cell_type": "code",
   "execution_count": 6,
   "metadata": {},
   "outputs": [],
   "source": [
    "x_train = []\n",
    "for index, row in list(train.iterrows()): \n",
    "    word_vector = []\n",
    "    for word in word_tokenize(row['text']): \n",
    "        if word not in nltk_stopwords: \n",
    "            word_vector.append(word)\n",
    "    x_train.append(' '.join(word_vector)) "
   ]
  },
  {
   "cell_type": "code",
   "execution_count": 7,
   "metadata": {},
   "outputs": [],
   "source": [
    "x_test = []\n",
    "for index, row in list(test.iterrows()): \n",
    "    word_vector = []\n",
    "    for word in word_tokenize(row['text']): \n",
    "        if word not in nltk_stopwords: \n",
    "            word_vector.append(word)\n",
    "    x_test.append(' '.join(word_vector)) "
   ]
  },
  {
   "cell_type": "code",
   "execution_count": 8,
   "metadata": {},
   "outputs": [
    {
     "name": "stderr",
     "output_type": "stream",
     "text": [
      "Using TensorFlow backend.\n"
     ]
    }
   ],
   "source": [
    "from keras.preprocessing import sequence\n",
    "from keras.preprocessing.text import Tokenizer"
   ]
  },
  {
   "cell_type": "code",
   "execution_count": 9,
   "metadata": {},
   "outputs": [],
   "source": [
    "token = Tokenizer(num_words=3800)\n",
    "token.fit_on_texts(x_train)\n",
    "word_index = token.word_index\n",
    "x_train_seq = token.texts_to_sequences(x_train)\n",
    "x_test_seq = token.texts_to_sequences(x_test)"
   ]
  },
  {
   "cell_type": "code",
   "execution_count": 10,
   "metadata": {},
   "outputs": [],
   "source": [
    "x_train = sequence.pad_sequences(x_train_seq, maxlen=380)\n",
    "x_test = sequence.pad_sequences(x_test_seq, maxlen=380)"
   ]
  },
  {
   "cell_type": "code",
   "execution_count": 11,
   "metadata": {},
   "outputs": [],
   "source": [
    "from gensim.scripts.glove2word2vec import glove2word2vec\n",
    "from gensim.models.keyedvectors import KeyedVectors\n",
    "from pathlib import Path"
   ]
  },
  {
   "cell_type": "code",
   "execution_count": 12,
   "metadata": {},
   "outputs": [],
   "source": [
    "#glove pre-trained embedding\n",
    "def get_pre_trained_embedding(vocab):\n",
    "    \n",
    "    # get pre-trained glove model\n",
    "    if not Path(\"gensim_glove_vectors.txt\").is_file():\n",
    "        glove2word2vec(glove_input_file=\"glove.6B.100d.txt\", word2vec_output_file=\"gensim_glove_vectors.txt\")    \n",
    "    embed_model = KeyedVectors.load_word2vec_format(\"gensim_glove_vectors.txt\", binary=False)\n",
    "    \n",
    "    #build embedding matrix from glove model\n",
    "    embed_matrix = np.zeros((len(vocab)+1, 100))\n",
    "    for w, i in vocab.items():\n",
    "        try:\n",
    "            embed_vector = embed_model.get_vector(w)\n",
    "            embed_matrix[i, :] = embed_vector\n",
    "        except:\n",
    "            continue\n",
    "    \n",
    "    return embed_matrix"
   ]
  },
  {
   "cell_type": "code",
   "execution_count": 13,
   "metadata": {},
   "outputs": [],
   "source": [
    "embed_matrix = get_pre_trained_embedding(word_index)"
   ]
  },
  {
   "cell_type": "code",
   "execution_count": 15,
   "metadata": {},
   "outputs": [],
   "source": [
    "from tensorflow.keras import Sequential\n",
    "from tensorflow.keras.layers import Dense,Dropout,Activation,Flatten\n",
    "from tensorflow.keras.layers import Embedding\n",
    "from tensorflow.keras.layers import SimpleRNN"
   ]
  },
  {
   "cell_type": "code",
   "execution_count": 16,
   "metadata": {},
   "outputs": [],
   "source": [
    "modelRNN = Sequential()\n",
    "modelRNN.add(Embedding(output_dim=100,input_dim=68452,input_length=380,weights=[embed_matrix]))"
   ]
  },
  {
   "cell_type": "code",
   "execution_count": 16,
   "metadata": {},
   "outputs": [],
   "source": [
    "modelRNN.add(Dropout(0.2))"
   ]
  },
  {
   "cell_type": "code",
   "execution_count": 17,
   "metadata": {},
   "outputs": [],
   "source": [
    "modelRNN.add(SimpleRNN(units=16))"
   ]
  },
  {
   "cell_type": "code",
   "execution_count": 18,
   "metadata": {},
   "outputs": [],
   "source": [
    "modelRNN.add(Dense(units=256,activation='relu'))\n",
    "modelRNN.add(Dropout(0.7))"
   ]
  },
  {
   "cell_type": "code",
   "execution_count": 19,
   "metadata": {},
   "outputs": [],
   "source": [
    "modelRNN.add(Dense(units=1,activation='sigmoid'))"
   ]
  },
  {
   "cell_type": "code",
   "execution_count": 20,
   "metadata": {},
   "outputs": [
    {
     "name": "stdout",
     "output_type": "stream",
     "text": [
      "Model: \"sequential\"\n",
      "_________________________________________________________________\n",
      "Layer (type)                 Output Shape              Param #   \n",
      "=================================================================\n",
      "embedding (Embedding)        (None, 380, 100)          6845200   \n",
      "_________________________________________________________________\n",
      "dropout (Dropout)            (None, 380, 100)          0         \n",
      "_________________________________________________________________\n",
      "simple_rnn (SimpleRNN)       (None, 16)                1872      \n",
      "_________________________________________________________________\n",
      "dense (Dense)                (None, 256)               4352      \n",
      "_________________________________________________________________\n",
      "dropout_1 (Dropout)          (None, 256)               0         \n",
      "_________________________________________________________________\n",
      "dense_1 (Dense)              (None, 1)                 257       \n",
      "=================================================================\n",
      "Total params: 6,851,681\n",
      "Trainable params: 6,851,681\n",
      "Non-trainable params: 0\n",
      "_________________________________________________________________\n"
     ]
    }
   ],
   "source": [
    "modelRNN.summary()"
   ]
  },
  {
   "cell_type": "code",
   "execution_count": 21,
   "metadata": {},
   "outputs": [],
   "source": [
    "modelRNN.compile(loss='binary_crossentropy',optimizer='adam',metrics=['accuracy'])"
   ]
  },
  {
   "cell_type": "code",
   "execution_count": 22,
   "metadata": {},
   "outputs": [],
   "source": [
    "y_train=np.array(y_train)\n",
    "y_train=y_train.astype(np.float)\n",
    "x_train=x_train.astype(np.float)\n",
    "y_test=np.array(y_test)\n",
    "y_test=y_test.astype(np.float)\n",
    "\n",
    "x_val = x_train[-997:]\n",
    "y_val = y_train[-997:]\n",
    "# print(type(x_train))\n",
    "# print(type(x_test))\n",
    "# print(type(y_train))\n",
    "# print(type(y_test))\n",
    "# print(type(x_val))\n",
    "# print(type(y_val))"
   ]
  },
  {
   "cell_type": "code",
   "execution_count": 23,
   "metadata": {},
   "outputs": [
    {
     "name": "stdout",
     "output_type": "stream",
     "text": [
      "Epoch 1/10\n",
      "50/50 - 10s - loss: 0.6913 - accuracy: 0.5640 - val_loss: 0.6667 - val_accuracy: 0.5888\n",
      "Epoch 2/10\n",
      "50/50 - 10s - loss: 0.6745 - accuracy: 0.5886 - val_loss: 0.6537 - val_accuracy: 0.6018\n",
      "Epoch 3/10\n",
      "50/50 - 10s - loss: 0.6650 - accuracy: 0.5955 - val_loss: 0.6406 - val_accuracy: 0.6389\n",
      "Epoch 4/10\n",
      "50/50 - 10s - loss: 0.6551 - accuracy: 0.6241 - val_loss: 0.6164 - val_accuracy: 0.6560\n",
      "Epoch 5/10\n",
      "50/50 - 10s - loss: 0.6381 - accuracy: 0.6400 - val_loss: 0.5888 - val_accuracy: 0.6800\n",
      "Epoch 6/10\n",
      "50/50 - 10s - loss: 0.6101 - accuracy: 0.6775 - val_loss: 0.5425 - val_accuracy: 0.7282\n",
      "Epoch 7/10\n",
      "50/50 - 10s - loss: 0.5769 - accuracy: 0.7032 - val_loss: 0.5055 - val_accuracy: 0.7773\n",
      "Epoch 8/10\n",
      "50/50 - 10s - loss: 0.5425 - accuracy: 0.7353 - val_loss: 0.4429 - val_accuracy: 0.8164\n",
      "Epoch 9/10\n",
      "50/50 - 10s - loss: 0.4962 - accuracy: 0.7675 - val_loss: 0.3922 - val_accuracy: 0.8275\n",
      "Epoch 10/10\n",
      "50/50 - 9s - loss: 0.4599 - accuracy: 0.7926 - val_loss: 0.3416 - val_accuracy: 0.8616\n"
     ]
    }
   ],
   "source": [
    "train_history_rnn = modelRNN.fit(x_train,y_train,epochs=10,batch_size=100,verbose=2,validation_data=(x_val, y_val))"
   ]
  },
  {
   "cell_type": "code",
   "execution_count": 24,
   "metadata": {},
   "outputs": [
    {
     "name": "stdout",
     "output_type": "stream",
     "text": [
      "39/39 [==============================] - 1s 14ms/step - loss: 1.0738 - accuracy: 0.4956\n",
      "Accuracy:0.49558940529823303\n"
     ]
    }
   ],
   "source": [
    "scores = modelRNN.evaluate(x_test,y_test,verbose=1)\n",
    "print(\"Accuracy:\"+str(scores[1]))"
   ]
  },
  {
   "cell_type": "code",
   "execution_count": 25,
   "metadata": {},
   "outputs": [
    {
     "data": {
      "text/plain": [
       "[<matplotlib.lines.Line2D at 0x1de306659c8>]"
      ]
     },
     "execution_count": 25,
     "metadata": {},
     "output_type": "execute_result"
    },
    {
     "data": {
      "image/png": "[encoded data removed]",
      "text/plain": [
       "<Figure size 432x288 with 1 Axes>"
      ]
     },
     "metadata": {
      "needs_background": "light"
     },
     "output_type": "display_data"
    }
   ],
   "source": [
    "plt.plot(train_history_rnn.history['accuracy'])"
   ]
  },
  {
   "cell_type": "code",
   "execution_count": 26,
   "metadata": {},
   "outputs": [
    {
     "data": {
      "text/plain": [
       "[<matplotlib.lines.Line2D at 0x1de1b39bd88>]"
      ]
     },
     "execution_count": 26,
     "metadata": {},
     "output_type": "execute_result"
    },
    {
     "data": {
      "image/png": "[encoded data removed]",
      "text/plain": [
       "<Figure size 432x288 with 1 Axes>"
      ]
     },
     "metadata": {
      "needs_background": "light"
     },
     "output_type": "display_data"
    }
   ],
   "source": [
    "plt.plot(train_history_rnn.history['loss'])"
   ]
  },
  {
   "cell_type": "code",
   "execution_count": 27,
   "metadata": {},
   "outputs": [],
   "source": [
    "from tensorflow.keras.layers import LSTM"
   ]
  },
  {
   "cell_type": "code",
   "execution_count": 28,
   "metadata": {},
   "outputs": [],
   "source": [
    "modelLSTM = Sequential()\n",
    "modelLSTM.add(Embedding(output_dim=100,input_dim=68452,input_length=380,weights=[embed_matrix]))"
   ]
  },
  {
   "cell_type": "code",
   "execution_count": 29,
   "metadata": {},
   "outputs": [],
   "source": [
    "modelLSTM.add(Dropout(0.2))"
   ]
  },
  {
   "cell_type": "code",
   "execution_count": 30,
   "metadata": {},
   "outputs": [],
   "source": [
    "modelLSTM.add(LSTM(32))"
   ]
  },
  {
   "cell_type": "code",
   "execution_count": 31,
   "metadata": {},
   "outputs": [],
   "source": [
    "modelLSTM.add(Dense(units=256,activation='relu'))\n",
    "modelLSTM.add(Dropout(0.7))"
   ]
  },
  {
   "cell_type": "code",
   "execution_count": 32,
   "metadata": {},
   "outputs": [],
   "source": [
    "modelLSTM.add(Dense(units=1,activation='sigmoid'))"
   ]
  },
  {
   "cell_type": "code",
   "execution_count": 33,
   "metadata": {},
   "outputs": [
    {
     "name": "stdout",
     "output_type": "stream",
     "text": [
      "Model: \"sequential_1\"\n",
      "_________________________________________________________________\n",
      "Layer (type)                 Output Shape              Param #   \n",
      "=================================================================\n",
      "embedding_1 (Embedding)      (None, 380, 100)          6845200   \n",
      "_________________________________________________________________\n",
      "dropout_2 (Dropout)          (None, 380, 100)          0         \n",
      "_________________________________________________________________\n",
      "lstm (LSTM)                  (None, 32)                17024     \n",
      "_________________________________________________________________\n",
      "dense_2 (Dense)              (None, 256)               8448      \n",
      "_________________________________________________________________\n",
      "dropout_3 (Dropout)          (None, 256)               0         \n",
      "_________________________________________________________________\n",
      "dense_3 (Dense)              (None, 1)                 257       \n",
      "=================================================================\n",
      "Total params: 6,870,929\n",
      "Trainable params: 6,870,929\n",
      "Non-trainable params: 0\n",
      "_________________________________________________________________\n"
     ]
    }
   ],
   "source": [
    "modelLSTM.summary()"
   ]
  },
  {
   "cell_type": "code",
   "execution_count": 34,
   "metadata": {},
   "outputs": [],
   "source": [
    "modelLSTM.compile(loss='binary_crossentropy',optimizer='adam',metrics=['accuracy'])"
   ]
  },
  {
   "cell_type": "code",
   "execution_count": 35,
   "metadata": {},
   "outputs": [
    {
     "name": "stdout",
     "output_type": "stream",
     "text": [
      "Epoch 1/10\n",
      "50/50 - 15s - loss: 0.6763 - accuracy: 0.5907 - val_loss: 0.6607 - val_accuracy: 0.5918\n",
      "Epoch 2/10\n",
      "50/50 - 13s - loss: 0.6514 - accuracy: 0.6181 - val_loss: 0.6072 - val_accuracy: 0.6760\n",
      "Epoch 3/10\n",
      "50/50 - 13s - loss: 0.6195 - accuracy: 0.6486 - val_loss: 0.5829 - val_accuracy: 0.7011\n",
      "Epoch 4/10\n",
      "50/50 - 13s - loss: 0.5833 - accuracy: 0.7048 - val_loss: 0.5481 - val_accuracy: 0.7362\n",
      "Epoch 5/10\n",
      "50/50 - 13s - loss: 0.5327 - accuracy: 0.7397 - val_loss: 0.4892 - val_accuracy: 0.7813\n",
      "Epoch 6/10\n",
      "50/50 - 14s - loss: 0.4914 - accuracy: 0.7754 - val_loss: 0.4896 - val_accuracy: 0.7653\n",
      "Epoch 7/10\n",
      "50/50 - 14s - loss: 0.4635 - accuracy: 0.7948 - val_loss: 0.4338 - val_accuracy: 0.7994\n",
      "Epoch 8/10\n",
      "50/50 - 23s - loss: 0.4361 - accuracy: 0.8093 - val_loss: 0.4062 - val_accuracy: 0.8285\n",
      "Epoch 9/10\n",
      "50/50 - 21s - loss: 0.4070 - accuracy: 0.8263 - val_loss: 0.4094 - val_accuracy: 0.8235\n",
      "Epoch 10/10\n",
      "50/50 - 22s - loss: 0.3748 - accuracy: 0.8448 - val_loss: 0.3539 - val_accuracy: 0.8526\n"
     ]
    }
   ],
   "source": [
    "train_history_lstm = modelLSTM.fit(x_train,y_train,epochs=10,batch_size=100,verbose=2,validation_data=(x_val, y_val))"
   ]
  },
  {
   "cell_type": "code",
   "execution_count": 36,
   "metadata": {},
   "outputs": [
    {
     "name": "stdout",
     "output_type": "stream",
     "text": [
      "39/39 [==============================] - 4s 92ms/step - loss: 1.4280 - accuracy: 0.4836\n",
      "Accuracy:0.4835605323314667\n"
     ]
    }
   ],
   "source": [
    "scores=modelLSTM.evaluate(x_test,y_test,verbose=1)\n",
    "print(\"Accuracy:\"+str(scores[1]))"
   ]
  },
  {
   "cell_type": "code",
   "execution_count": 37,
   "metadata": {},
   "outputs": [
    {
     "data": {
      "text/plain": [
       "[<matplotlib.lines.Line2D at 0x1de342c7248>]"
      ]
     },
     "execution_count": 37,
     "metadata": {},
     "output_type": "execute_result"
    },
    {
     "data": {
      "image/png": "[encoded data removed]",
      "text/plain": [
       "<Figure size 432x288 with 1 Axes>"
      ]
     },
     "metadata": {
      "needs_background": "light"
     },
     "output_type": "display_data"
    }
   ],
   "source": [
    "plt.plot(train_history_lstm.history['accuracy'])"
   ]
  },
  {
   "cell_type": "code",
   "execution_count": 38,
   "metadata": {},
   "outputs": [
    {
     "data": {
      "text/plain": [
       "[<matplotlib.lines.Line2D at 0x1de34328288>]"
      ]
     },
     "execution_count": 38,
     "metadata": {},
     "output_type": "execute_result"
    },
    {
     "data": {
      "image/png": "[encoded data removed]",
      "text/plain": [
       "<Figure size 432x288 with 1 Axes>"
      ]
     },
     "metadata": {
      "needs_background": "light"
     },
     "output_type": "display_data"
    }
   ],
   "source": [
    "plt.plot(train_history_lstm.history['loss'])"
   ]
  },
  {
   "cell_type": "code",
   "execution_count": null,
   "metadata": {},
   "outputs": [],
   "source": []
  }
 ],
 "metadata": {
  "kernelspec": {
   "display_name": "Python 3",
   "language": "python",
   "name": "python3"
  },
  "language_info": {
   "codemirror_mode": {
    "name": "ipython",
    "version": 3
   },
   "file_extension": ".py",
   "mimetype": "text/x-python",
   "name": "python",
   "nbconvert_exporter": "python",
   "pygments_lexer": "ipython3",
   "version": "3.7.6"
  }
 },
 "nbformat": 4,
 "nbformat_minor": 4
}
